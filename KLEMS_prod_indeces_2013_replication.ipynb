{
 "cells": [
  {
   "cell_type": "markdown",
   "metadata": {},
   "source": [
    "--- "
   ]
  },
  {
   "cell_type": "markdown",
   "metadata": {},
   "source": [
    "### Importing and filtering data:"
   ]
  },
  {
   "cell_type": "code",
   "execution_count": 16,
   "metadata": {},
   "outputs": [],
   "source": [
    "import pandas as pd\n",
    "import numpy as np \n",
    "\n",
    "import_file_path = r\"C:\\Users\\olive\\OneDrive\\Documents\\University Work\\Y3S2\\JIV_RA_task\\usa_wk_apr_2013.xlsx\"\n",
    "export_file_path = r\"C:\\Users\\olive\\OneDrive\\Documents\\University Work\\Y3S2\\JIV_RA_task\\KLEMS_indeces_2013.xlsx\"\n",
    "\n",
    "KLEMS_final = (\n",
    "    pd.read_excel(import_file_path, sheet_name=\"DATA\")\n",
    "    .query(\"code == 'AtB'\")\n",
    "    .melt(id_vars=[\"Variable\", \"desc\", \"code\"], var_name =\"Year\", value_name=\"Value\")\n",
    "    .pivot(index=\"Year\", columns=\"Variable\", values=\"Value\")\n",
    "    .loc[:, [\"GO\", \"GO_QI\", \"II\", \"II_QI\", \"LAB\", \"LAB_QI\", \"CAP\", \"CAP_QI\", \"H_EMP\"]])\n",
    "KLEMS_final.index = KLEMS_final.index.astype(str).str.replace(\"_\",\"\")"
   ]
  },
  {
   "cell_type": "markdown",
   "metadata": {},
   "source": [
    "--- "
   ]
  },
  {
   "cell_type": "markdown",
   "metadata": {},
   "source": [
    "### Start of main task:"
   ]
  },
  {
   "cell_type": "markdown",
   "metadata": {},
   "source": [
    "--- "
   ]
  },
  {
   "cell_type": "markdown",
   "metadata": {},
   "source": [
    "### Compute nominal value added and nominal value added share of output"
   ]
  },
  {
   "cell_type": "markdown",
   "metadata": {},
   "source": [
    "#### Nominal value added"
   ]
  },
  {
   "cell_type": "markdown",
   "metadata": {},
   "source": [
    "Formula\n",
    "\n",
    "$$\n",
    "P_{V A}(t) Q_{V A}(t) = P_Y (t) Q_Y (t) - P_{II} (t) Q_{II} (t)\n",
    "$$"
   ]
  },
  {
   "cell_type": "code",
   "execution_count": 17,
   "metadata": {},
   "outputs": [],
   "source": [
    "KLEMS_final.loc[:, \"nominal_VA\"] = (KLEMS_final[\"GO\"] - KLEMS_final[\"II\"])"
   ]
  },
  {
   "cell_type": "markdown",
   "metadata": {},
   "source": [
    "#### Nominal value added share of output\n",
    "\n",
    "Formula: \n",
    "\n",
    "$$\n",
    "\\nu_{V A}(t) = \\frac{P_{V A}(t) Q_{V A}(t)}{P_Y (t) Q_Y (t)}\n",
    "$$"
   ]
  },
  {
   "cell_type": "code",
   "execution_count": 18,
   "metadata": {},
   "outputs": [],
   "source": [
    "KLEMS_final.loc[:, \"VA_output_share\"] = (KLEMS_final[\"nominal_VA\"]/KLEMS_final[\"GO\"])"
   ]
  },
  {
   "cell_type": "markdown",
   "metadata": {},
   "source": [
    "---"
   ]
  },
  {
   "cell_type": "markdown",
   "metadata": {},
   "source": [
    "### Value added quantity growth rates\n",
    "\n",
    "Formula: \n",
    "\n",
    "$$\n",
    "\\Delta \\ln Q_{VA}(t) = \\frac{\\Delta \\ln Q_Y (t) - \\bar{\\nu}_{II} (t) \\Delta \\ln Q_{II} (t)}{\\bar{\\nu}_{V A} (t)}\n",
    "$$\n",
    "\n",
    "where:\n",
    "\n",
    "$$\n",
    "\\Delta \\ln X(t) = \\ln X(t) - \\ln X(t - 1)\n",
    "$$\n",
    "\n",
    "and:\n",
    "\n",
    "$$\n",
    "\\bar{\\nu}_X(t) = 0.5 \\times \\left( \\frac{P_X(t) Q_X(t)}{P_Y (t) Q_Y (t)} + \\frac{P_X(t - 1) Q_X(t - 1)}{P_Y (t - 1) Q_Y (t - 1)} \\right)\n",
    "$$"
   ]
  },
  {
   "cell_type": "markdown",
   "metadata": {},
   "source": [
    "#### Log Differences\n",
    "\n",
    "$$\n",
    "\\Delta \\ln X(t) = \\ln X(t) - \\ln X(t - 1)\n",
    "$$\n",
    "\n",
    "where X is either real GO or real II"
   ]
  },
  {
   "cell_type": "code",
   "execution_count": 19,
   "metadata": {},
   "outputs": [],
   "source": [
    "KLEMS_final.loc[:, \"ln_GO_QI\"] = np.log(KLEMS_final[\"GO_QI\"])\n",
    "KLEMS_final.loc[:, \"delta_ln_GO_QI\"] = (KLEMS_final[\"ln_GO_QI\"] - KLEMS_final[\"ln_GO_QI\"].shift(1))\n",
    "\n",
    "KLEMS_final.loc[:, \"ln_II_QI\"] = np.log(KLEMS_final[\"II_QI\"])\n",
    "KLEMS_final.loc[:, \"delta_ln_II_QI\"] = (KLEMS_final[\"ln_II_QI\"] - KLEMS_final[\"ln_II_QI\"].shift(1))"
   ]
  },
  {
   "cell_type": "markdown",
   "metadata": {},
   "source": [
    "#### Tornqvist Output Share\n",
    "\n",
    "$$\n",
    "\\bar{\\nu}_X(t) = 0.5 \\times \\left( \\frac{P_X(t) Q_X(t)}{P_Y (t) Q_Y (t)} + \\frac{P_X(t - 1) Q_X(t - 1)}{P_Y (t - 1) Q_Y (t - 1)} \\right)\n",
    "$$\n",
    "\n",
    "where X is either nominal VA or nominal II"
   ]
  },
  {
   "cell_type": "code",
   "execution_count": 20,
   "metadata": {},
   "outputs": [],
   "source": [
    "KLEMS_final.loc[:, \"VA_tornqvist_output_share\"] = (0.5*((KLEMS_final[\"nominal_VA\"]/KLEMS_final[\"GO\"])+(KLEMS_final[\"nominal_VA\"].shift(1)/KLEMS_final[\"GO\"].shift(1))))\n",
    "KLEMS_final.loc[:, \"II_tornqvist_output_share\"] = (0.5*((KLEMS_final[\"II\"]/KLEMS_final[\"GO\"])+(KLEMS_final[\"II\"].shift(1)/KLEMS_final[\"GO\"].shift(1))))"
   ]
  },
  {
   "cell_type": "markdown",
   "metadata": {},
   "source": [
    "#### Real VA Growth Rate\n",
    "\n",
    "$$\n",
    "\\Delta \\ln Q_{VA}(t) = \\frac{\\Delta \\ln Q_Y (t) - \\bar{\\nu}_{II} (t) \\Delta \\ln Q_{II} (t)}{\\bar{\\nu}_{V A} (t)}\n",
    "$$"
   ]
  },
  {
   "cell_type": "code",
   "execution_count": 21,
   "metadata": {},
   "outputs": [],
   "source": [
    "KLEMS_final.loc[:, \"delta_ln_Q_va\"] = ((KLEMS_final[\"delta_ln_GO_QI\"] - (KLEMS_final[\"II_tornqvist_output_share\"]*KLEMS_final[\"delta_ln_II_QI\"]))/KLEMS_final[\"VA_tornqvist_output_share\"])"
   ]
  },
  {
   "cell_type": "markdown",
   "metadata": {},
   "source": [
    "--- "
   ]
  },
  {
   "cell_type": "markdown",
   "metadata": {},
   "source": [
    "### Labour Productivity (LP) growth rates"
   ]
  },
  {
   "cell_type": "markdown",
   "metadata": {},
   "source": [
    "Formula:\n",
    "\n",
    "$$\n",
    "\\Delta \\ln LP(t) = \\Delta \\ln Q_{VA}(t) - \\Delta \\ln Q_L(t)\n",
    "$$"
   ]
  },
  {
   "cell_type": "markdown",
   "metadata": {},
   "source": [
    "#### Using LAB_QI:"
   ]
  },
  {
   "cell_type": "code",
   "execution_count": 22,
   "metadata": {},
   "outputs": [],
   "source": [
    "KLEMS_final.loc[:, \"ln_LAB_QI\"] = np.log(KLEMS_final[\"LAB_QI\"])\n",
    "KLEMS_final.loc[:, \"delta_ln_LAB_QI\"] = (KLEMS_final[\"ln_LAB_QI\"] - KLEMS_final[\"ln_LAB_QI\"].shift(1))\n",
    "KLEMS_final.loc[:, \"delta_ln_LP\"] = (KLEMS_final[\"delta_ln_Q_va\"] - KLEMS_final[\"delta_ln_LAB_QI\"])"
   ]
  },
  {
   "cell_type": "markdown",
   "metadata": {},
   "source": [
    "#### Using H_EMP:"
   ]
  },
  {
   "cell_type": "code",
   "execution_count": 23,
   "metadata": {},
   "outputs": [],
   "source": [
    "KLEMS_final.loc[:, \"ln_H_EMP\"] = np.log(KLEMS_final[\"H_EMP\"])\n",
    "KLEMS_final.loc[:, \"delta_ln_H_EMP\"] = (KLEMS_final[\"ln_H_EMP\"] - KLEMS_final[\"ln_H_EMP\"].shift(1))\n",
    "KLEMS_final.loc[:, \"delta_ln_LP_using_H_EMP\"] = (KLEMS_final[\"delta_ln_Q_va\"] - KLEMS_final[\"delta_ln_H_EMP\"])"
   ]
  },
  {
   "cell_type": "markdown",
   "metadata": {},
   "source": [
    "--- "
   ]
  },
  {
   "cell_type": "markdown",
   "metadata": {},
   "source": [
    "### Total Factor Productivity (TFP) growth rate"
   ]
  },
  {
   "cell_type": "markdown",
   "metadata": {},
   "source": [
    "TFP formula:\n",
    "$$\n",
    "\\Delta \\ln TFP(t) = \\Delta \\ln Q_{VA}(t) - \\bar{\\psi}_L(t) \\Delta \\ln Q_L(t) - \\bar{\\psi}_K(t) \\Delta \\ln Q_K(t)\n",
    "$$\n",
    "\n",
    "where:\n",
    "\n",
    "$$\n",
    "\\bar{\\psi}_X(t) = 0.5 \\times \\left( \\frac{P_X(t) Q_X(t)}{P_{VA}(t) Q_{VA}(t)} + \\frac{P_X(t-1) Q_X(t-1)}{P_{VA}(t-1) Q_{VA}(t-1)} \\right)\n",
    "$$"
   ]
  },
  {
   "cell_type": "markdown",
   "metadata": {},
   "source": [
    "#### Tornqvist VA Share\n",
    "\n",
    "$$\n",
    "\\bar{\\psi}_X(t) = 0.5 \\times \\left( \\frac{P_X(t) Q_X(t)}{P_{VA}(t) Q_{VA}(t)} + \\frac{P_X(t-1) Q_X(t-1)}{P_{VA}(t-1) Q_{VA}(t-1)} \\right)\n",
    "$$\n",
    "\n",
    "where X is either nominal LAB (L) or nominal CAP (K)"
   ]
  },
  {
   "cell_type": "code",
   "execution_count": 24,
   "metadata": {},
   "outputs": [],
   "source": [
    "KLEMS_final.loc[:, \"L_tornqvist_VA_share\"] = (0.5*((KLEMS_final[\"LAB\"]/KLEMS_final[\"nominal_VA\"])+(KLEMS_final[\"LAB\"].shift(1)/KLEMS_final[\"nominal_VA\"].shift(1))))\n",
    "KLEMS_final.loc[:, \"K_tornqvist_VA_share\"] = (0.5*((KLEMS_final[\"CAP\"]/KLEMS_final[\"nominal_VA\"])+(KLEMS_final[\"CAP\"].shift(1)/KLEMS_final[\"nominal_VA\"].shift(1))))"
   ]
  },
  {
   "cell_type": "markdown",
   "metadata": {},
   "source": [
    "Real capital; logged and log difference:"
   ]
  },
  {
   "cell_type": "code",
   "execution_count": 25,
   "metadata": {},
   "outputs": [],
   "source": [
    "KLEMS_final.loc[:, \"ln_CAP_QI\"] = np.log(KLEMS_final[\"CAP_QI\"])\n",
    "KLEMS_final.loc[:, \"delta_ln_CAP_QI\"] = (KLEMS_final[\"ln_CAP_QI\"] - KLEMS_final[\"ln_CAP_QI\"].shift(1))"
   ]
  },
  {
   "cell_type": "markdown",
   "metadata": {},
   "source": [
    "#### TFP growth rate\n",
    "\n",
    "$$\n",
    "\\Delta \\ln TFP(t) = \\Delta \\ln Q_{VA}(t) - \\bar{\\psi}_L(t) \\Delta \\ln Q_L(t) - \\bar{\\psi}_K(t) \\Delta \\ln Q_K(t)\n",
    "$$"
   ]
  },
  {
   "cell_type": "code",
   "execution_count": 26,
   "metadata": {},
   "outputs": [],
   "source": [
    "KLEMS_final.loc[:, \"delta_ln_TFP\"] = (KLEMS_final[\"delta_ln_Q_va\"] - (KLEMS_final[\"L_tornqvist_VA_share\"]*KLEMS_final[\"delta_ln_LAB_QI\"]) - (KLEMS_final[\"K_tornqvist_VA_share\"]*KLEMS_final[\"delta_ln_CAP_QI\"]))"
   ]
  },
  {
   "cell_type": "markdown",
   "metadata": {},
   "source": [
    "--- "
   ]
  },
  {
   "cell_type": "markdown",
   "metadata": {},
   "source": [
    "### Turning Growth Rates Into Indeces"
   ]
  },
  {
   "cell_type": "code",
   "execution_count": 27,
   "metadata": {},
   "outputs": [],
   "source": [
    "# Cumulatively sums the yearly changes in TFP and LP, starting from 1947 = 0. \n",
    "KLEMS_final.loc[:, \"ln_TFP\"] = KLEMS_final[\"delta_ln_TFP\"].cumsum()\n",
    "KLEMS_final.loc[:, \"ln_LP\"] = KLEMS_final[\"delta_ln_LP\"].cumsum()\n",
    "KLEMS_final.loc[:, \"ln_LP_using_H_EMP\"] = KLEMS_final[\"delta_ln_LP_using_H_EMP\"].cumsum()"
   ]
  },
  {
   "cell_type": "code",
   "execution_count": 28,
   "metadata": {},
   "outputs": [],
   "source": [
    "# Applies exponential operator to log indeces:\n",
    "KLEMS_final.loc[:, \"index_ln_TFP\"] = np.exp(KLEMS_final[\"ln_TFP\"])\n",
    "KLEMS_final.loc[:, \"index_ln_LP\"] = np.exp(KLEMS_final[\"ln_LP\"])\n",
    "KLEMS_final.loc[:, \"index_ln_LP_using_H_EMP\"] = np.exp(KLEMS_final[\"ln_LP_using_H_EMP\"])"
   ]
  },
  {
   "cell_type": "code",
   "execution_count": 29,
   "metadata": {},
   "outputs": [],
   "source": [
    "KLEMS_final.iloc[0, KLEMS_final.columns.get_indexer(['index_ln_TFP', 'index_ln_LP', 'index_ln_LP_using_H_EMP'])] = 1"
   ]
  },
  {
   "cell_type": "markdown",
   "metadata": {},
   "source": [
    "--- "
   ]
  },
  {
   "cell_type": "markdown",
   "metadata": {},
   "source": [
    "### Export to Excel"
   ]
  },
  {
   "cell_type": "code",
   "execution_count": 30,
   "metadata": {},
   "outputs": [
    {
     "name": "stdout",
     "output_type": "stream",
     "text": [
      "File successfully saved to: C:\\Users\\olive\\OneDrive\\Documents\\University Work\\Y3S2\\JIV_RA_task\\KLEMS_indeces_2013.xlsx\n"
     ]
    }
   ],
   "source": [
    "columns = [\"index_ln_TFP\", \"index_ln_LP\", \"index_ln_LP_using_H_EMP\"] \n",
    "\n",
    "KLEMS_final[columns].to_excel(export_file_path, sheet_name=\"Data\", index=True) # Note: Year is index, so Year is also exported with index=True\n",
    "\n",
    "print(f\"File successfully saved to: {export_file_path}\")"
   ]
  }
 ],
 "metadata": {
  "kernelspec": {
   "display_name": "base",
   "language": "python",
   "name": "python3"
  },
  "language_info": {
   "codemirror_mode": {
    "name": "ipython",
    "version": 3
   },
   "file_extension": ".py",
   "mimetype": "text/x-python",
   "name": "python",
   "nbconvert_exporter": "python",
   "pygments_lexer": "ipython3",
   "version": "3.12.4"
  }
 },
 "nbformat": 4,
 "nbformat_minor": 2
}
