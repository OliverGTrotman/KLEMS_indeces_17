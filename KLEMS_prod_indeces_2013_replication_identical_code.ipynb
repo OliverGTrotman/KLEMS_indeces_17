{
 "cells": [
  {
   "cell_type": "markdown",
   "metadata": {},
   "source": [
    "## 1 Importing and filtering data:"
   ]
  },
  {
   "cell_type": "code",
   "execution_count": 1,
   "metadata": {},
   "outputs": [],
   "source": [
    "import pandas as pd\n",
    "import numpy as np \n",
    "\n",
    "import_file_path = r\"C:\\Users\\olive\\OneDrive\\Documents\\University Work\\Y3S2\\JIV_RA_task\\usa_wk_apr_2013.xlsx\"\n",
    "export_file_path = r\"C:\\Users\\olive\\OneDrive\\Documents\\University Work\\Y3S2\\JIV_RA_task\\KLEMS_indeces_2013_samecode.xlsx\"\n",
    "\n",
    "KLEMS_data = (\n",
    "    pd.read_excel(import_file_path, sheet_name=\"DATA\")\n",
    "    .query(\"code == 'AtB'\")\n",
    "    .melt(id_vars=[\"Variable\", \"desc\", \"code\"], var_name =\"Year\", value_name=\"Value\")\n",
    "    .pivot(index=(\"Year\", \"code\"), columns=\"Variable\", values=\"Value\")\n",
    "    .loc[:, [\"GO\", \"GO_QI\", \"II\", \"II_QI\", \"LAB\", \"LAB_QI\", \"CAP\", \"CAP_QI\"]])\n",
    "KLEMS_data = KLEMS_data.rename(columns={\n",
    "    \"GO\": \"GO\",\n",
    "    \"CAP\": \"CAP\",\n",
    "    \"LAB\": \"LAB\",\n",
    "    \"II\": \"II\",\n",
    "    \"GO_QI\": \"GO_real\",\n",
    "    \"CAP_QI\": \"CAP_real\",\n",
    "    \"LAB_QI\": \"LAB_real\",\n",
    "    \"II_QI\": \"II_real\"}).copy()"
   ]
  },
  {
   "cell_type": "markdown",
   "metadata": {},
   "source": [
    "## 2 Computing productivity growth rates"
   ]
  },
  {
   "cell_type": "markdown",
   "metadata": {},
   "source": [
    "### 2.1 'Nominal value added' and 'nominal value added share of output'"
   ]
  },
  {
   "cell_type": "markdown",
   "metadata": {},
   "source": [
    "#### 2.1.1 Nominal value added\n",
    "\n",
    "Formula \n",
    "\n",
    "$$\n",
    "P_{V A}(t) Q_{V A}(t) = P_Y (t) Q_Y (t) - P_{II} (t) Q_{II} (t)\n",
    "$$"
   ]
  },
  {
   "cell_type": "code",
   "execution_count": 2,
   "metadata": {},
   "outputs": [],
   "source": [
    "KLEMS_data.loc[:, \"nominal_VA\"] = (KLEMS_data[\"GO\"] - KLEMS_data[\"II\"])"
   ]
  },
  {
   "cell_type": "markdown",
   "metadata": {},
   "source": [
    "#### 2.1.2 Nominal value added share of output\n",
    "\n",
    "Formula: \n",
    "\n",
    "$$\n",
    "\\nu_{V A}(t) = \\frac{P_{V A}(t) Q_{V A}(t)}{P_Y (t) Q_Y (t)}\n",
    "$$"
   ]
  },
  {
   "cell_type": "code",
   "execution_count": 3,
   "metadata": {},
   "outputs": [],
   "source": [
    "KLEMS_data.loc[:, \"VA_output_share\"] = (KLEMS_data[\"nominal_VA\"]/KLEMS_data[\"GO\"])"
   ]
  },
  {
   "cell_type": "markdown",
   "metadata": {},
   "source": [
    "### 2.2 Value added quantity growth rate"
   ]
  },
  {
   "cell_type": "markdown",
   "metadata": {},
   "source": [
    "Formula\n",
    "\n",
    "$$\n",
    "\\Delta \\ln Q_{VA}(t) = \\frac{\\Delta \\ln Q_Y (t) - \\bar{\\nu}_{II} (t) \\Delta \\ln Q_{II} (t)}{\\bar{\\nu}_{V A} (t)}\n",
    "$$\n",
    "\n",
    "where:\n",
    "\n",
    "$$\n",
    "\\Delta \\ln X(t) = \\ln X(t) - \\ln X(t - 1)\n",
    "$$\n",
    "\n",
    "and:\n",
    "\n",
    "$$\n",
    "\\bar{\\nu}_X(t) = 0.5 \\times \\left( \\frac{P_X(t) Q_X(t)}{P_Y (t) Q_Y (t)} + \\frac{P_X(t - 1) Q_X(t - 1)}{P_Y (t - 1) Q_Y (t - 1)} \\right)\n",
    "$$"
   ]
  },
  {
   "cell_type": "markdown",
   "metadata": {},
   "source": [
    "#### 2.2.1 Log differences\n",
    "\n",
    "$$\n",
    "\\Delta \\ln X(t) = \\ln X(t) - \\ln X(t - 1)\n",
    "$$\n",
    "\n",
    "where X is either real GO or real II"
   ]
  },
  {
   "cell_type": "code",
   "execution_count": 4,
   "metadata": {},
   "outputs": [],
   "source": [
    "KLEMS_data.loc[:, \"ln_GO_real\"] = np.log(KLEMS_data[\"GO_real\"])\n",
    "KLEMS_data.loc[:, \"ln_II_real\"] = np.log(KLEMS_data[\"II_real\"])\n",
    "\n",
    "KLEMS_data.loc[:, \"delta_ln_GO_real\"] = (KLEMS_data.groupby(\"code\")[\"ln_GO_real\"].transform(lambda x: x - x.shift(1)))\n",
    "KLEMS_data.loc[:, \"delta_ln_II_real\"] = (KLEMS_data.groupby(\"code\")[\"ln_II_real\"].transform(lambda x: x - x.shift(1)))"
   ]
  },
  {
   "cell_type": "markdown",
   "metadata": {},
   "source": [
    "#### 2.2.2 Tornqvist Output Share\n",
    "\n",
    "$$\n",
    "\\bar{\\nu}_X(t) = 0.5 \\times \\left( \\frac{P_X(t) Q_X(t)}{P_Y (t) Q_Y (t)} + \\frac{P_X(t - 1) Q_X(t - 1)}{P_Y (t - 1) Q_Y (t - 1)} \\right)\n",
    "$$\n",
    "\n",
    "where X is either nominal VA or nominal II"
   ]
  },
  {
   "cell_type": "code",
   "execution_count": 5,
   "metadata": {},
   "outputs": [],
   "source": [
    "KLEMS_data.loc[:, \"VA_over_GO\"] = KLEMS_data[\"nominal_VA\"] / KLEMS_data[\"GO\"]\n",
    "KLEMS_data.loc[:, \"II_over_GO\"] = KLEMS_data[\"II\"] / KLEMS_data[\"GO\"]\n",
    "\n",
    "KLEMS_data.loc[:, \"VA_over_GO_lag\"] = KLEMS_data.groupby(\"code\")[\"VA_over_GO\"].transform(lambda x: x.shift(1))\n",
    "KLEMS_data.loc[:, \"II_over_GO_lag\"] = KLEMS_data.groupby(\"code\")[\"II_over_GO\"].transform(lambda x: x.shift(1))\n",
    "\n",
    "KLEMS_data.loc[:, \"VA_tornqvist_output_share\"] = 0.5 * (KLEMS_data[\"VA_over_GO\"] + KLEMS_data[\"VA_over_GO_lag\"])\n",
    "KLEMS_data.loc[:, \"II_tornqvist_output_share\"] = 0.5 * (KLEMS_data[\"II_over_GO\"] + KLEMS_data[\"II_over_GO_lag\"])"
   ]
  },
  {
   "cell_type": "markdown",
   "metadata": {},
   "source": [
    "#### 2.2.3 Value added quantity growth rate\n",
    "\n",
    "$$\n",
    "\\Delta \\ln Q_{VA}(t) = \\frac{\\Delta \\ln Q_Y (t) - \\bar{\\nu}_{II} (t) \\Delta \\ln Q_{II} (t)}{\\bar{\\nu}_{V A} (t)}\n",
    "$$"
   ]
  },
  {
   "cell_type": "code",
   "execution_count": 6,
   "metadata": {},
   "outputs": [],
   "source": [
    "KLEMS_data.loc[:, \"delta_ln_Q_va\"] = ((KLEMS_data[\"delta_ln_GO_real\"] - (KLEMS_data[\"II_tornqvist_output_share\"]*KLEMS_data[\"delta_ln_II_real\"]))/KLEMS_data[\"VA_tornqvist_output_share\"])"
   ]
  },
  {
   "cell_type": "markdown",
   "metadata": {},
   "source": [
    "### 2.3 Labour productivity growth rate"
   ]
  },
  {
   "cell_type": "markdown",
   "metadata": {},
   "source": [
    "Formula:\n",
    "\n",
    "$$\n",
    "\\Delta \\ln LP(t) = \\Delta \\ln Q_{VA}(t) - \\Delta \\ln Q_L(t)\n",
    "$$"
   ]
  },
  {
   "cell_type": "code",
   "execution_count": 7,
   "metadata": {},
   "outputs": [],
   "source": [
    "KLEMS_data.loc[:, \"LAB_real_lag\"] = KLEMS_data.groupby(\"code\")[\"LAB_real\"].transform(lambda x: x.shift(1))\n",
    "KLEMS_data.loc[:, \"ln_LAB_real\"] = np.log(KLEMS_data[\"LAB_real\"])\n",
    "KLEMS_data.loc[:, \"ln_LAB_real_lag\"] = np.log(KLEMS_data[\"LAB_real_lag\"])\n",
    "\n",
    "KLEMS_data.loc[:, \"delta_ln_LAB_real\"] = (KLEMS_data[\"ln_LAB_real\"] - KLEMS_data[\"ln_LAB_real_lag\"])\n",
    "KLEMS_data.loc[:, \"delta_ln_LP\"] = (KLEMS_data[\"delta_ln_Q_va\"] - KLEMS_data[\"delta_ln_LAB_real\"])"
   ]
  },
  {
   "cell_type": "markdown",
   "metadata": {},
   "source": [
    "### 2.4 Total factor productivity growth rate"
   ]
  },
  {
   "cell_type": "markdown",
   "metadata": {},
   "source": [
    "Formula:\n",
    "\n",
    "$$\n",
    "\\Delta \\ln TFP(t) = \\Delta \\ln Q_{VA}(t) - \\bar{\\psi}_L(t) \\Delta \\ln Q_L(t) - \\bar{\\psi}_K(t) \\Delta \\ln Q_K(t)\n",
    "$$\n",
    "\n",
    "where:\n",
    "\n",
    "$$\n",
    "\\bar{\\psi}_X(t) = 0.5 \\times \\left( \\frac{P_X(t) Q_X(t)}{P_{VA}(t) Q_{VA}(t)} + \\frac{P_X(t-1) Q_X(t-1)}{P_{VA}(t-1) Q_{VA}(t-1)} \\right)\n",
    "$$\n",
    "\n",
    "where X is either nominal LAB (L) or nominal CAP (K)"
   ]
  },
  {
   "cell_type": "markdown",
   "metadata": {},
   "source": [
    "#### 2.4.1 Tornqvist VA share\n",
    "\n",
    "$$\n",
    "\\bar{\\psi}_X(t) = 0.5 \\times \\left( \\frac{P_X(t) Q_X(t)}{P_{VA}(t) Q_{VA}(t)} + \\frac{P_X(t-1) Q_X(t-1)}{P_{VA}(t-1) Q_{VA}(t-1)} \\right)\n",
    "$$\n",
    "\n",
    "where X is either nominal LAB (L) or nominal CAP (K)"
   ]
  },
  {
   "cell_type": "code",
   "execution_count": 8,
   "metadata": {},
   "outputs": [],
   "source": [
    "KLEMS_data.loc[:, \"LAB_over_nominal_VA\"] = KLEMS_data[\"LAB\"] / KLEMS_data[\"nominal_VA\"]\n",
    "KLEMS_data.loc[:, \"CAP_over_nominal_VA\"] = KLEMS_data[\"CAP\"] / KLEMS_data[\"nominal_VA\"]\n",
    "\n",
    "KLEMS_data.loc[:, \"LAB_over_nominal_VA_lag\"] = KLEMS_data.groupby(\"code\")[\"LAB_over_nominal_VA\"].transform(lambda x: x.shift(1))\n",
    "KLEMS_data.loc[:, \"CAP_over_nominal_VA_lag\"] = KLEMS_data.groupby(\"code\")[\"CAP_over_nominal_VA\"].transform(lambda x: x.shift(1))\n",
    "\n",
    "KLEMS_data.loc[:, \"L_tornqvist_VA_share\"] = 0.5 * (KLEMS_data[\"LAB_over_nominal_VA\"] + KLEMS_data[\"LAB_over_nominal_VA_lag\"])\n",
    "KLEMS_data.loc[:, \"K_tornqvist_VA_share\"] = 0.5 * (KLEMS_data[\"CAP_over_nominal_VA\"] + KLEMS_data[\"CAP_over_nominal_VA_lag\"])"
   ]
  },
  {
   "cell_type": "markdown",
   "metadata": {},
   "source": [
    "#### 2.4.2 Real capital; logged and log difference"
   ]
  },
  {
   "cell_type": "code",
   "execution_count": 9,
   "metadata": {},
   "outputs": [],
   "source": [
    "KLEMS_data.loc[:, \"CAP_real_lag\"] = KLEMS_data.groupby(\"code\")[\"CAP_real\"].transform(lambda x: x.shift(1))\n",
    "KLEMS_data.loc[:, \"ln_CAP_real\"] = np.log(KLEMS_data[\"CAP_real\"])\n",
    "KLEMS_data.loc[:, \"ln_CAP_real_lag\"] = np.log(KLEMS_data[\"CAP_real_lag\"])\n",
    "KLEMS_data.loc[:, \"delta_ln_CAP_real\"] = (KLEMS_data[\"ln_CAP_real\"] - KLEMS_data[\"ln_CAP_real_lag\"])"
   ]
  },
  {
   "cell_type": "markdown",
   "metadata": {},
   "source": [
    "#### 2.4.3 TFP growth rate\n",
    "\n",
    "$$\n",
    "\\Delta \\ln TFP(t) = \\Delta \\ln Q_{VA}(t) - \\bar{\\psi}_L(t) \\Delta \\ln Q_L(t) - \\bar{\\psi}_K(t) \\Delta \\ln Q_K(t)\n",
    "$$"
   ]
  },
  {
   "cell_type": "code",
   "execution_count": 10,
   "metadata": {},
   "outputs": [],
   "source": [
    "KLEMS_data.loc[:, \"delta_ln_TFP\"] = (KLEMS_data[\"delta_ln_Q_va\"] - (KLEMS_data[\"L_tornqvist_VA_share\"]*KLEMS_data[\"delta_ln_LAB_real\"]) - (KLEMS_data[\"K_tornqvist_VA_share\"]*KLEMS_data[\"delta_ln_CAP_real\"]))"
   ]
  },
  {
   "cell_type": "markdown",
   "metadata": {},
   "source": [
    "## 3 Turning growth rates into indeces"
   ]
  },
  {
   "cell_type": "markdown",
   "metadata": {},
   "source": [
    "### 3.1 TFP"
   ]
  },
  {
   "cell_type": "code",
   "execution_count": 11,
   "metadata": {},
   "outputs": [],
   "source": [
    "KLEMS_data[\"ln_TFP\"] = KLEMS_data.groupby(\"code\")[\"delta_ln_TFP\"].cumsum()\n",
    "KLEMS_data[\"index_ln_TFP\"] = np.exp(KLEMS_data[\"ln_TFP\"])"
   ]
  },
  {
   "cell_type": "markdown",
   "metadata": {},
   "source": [
    "### 3.2 LP"
   ]
  },
  {
   "cell_type": "code",
   "execution_count": 12,
   "metadata": {},
   "outputs": [],
   "source": [
    "KLEMS_data[\"ln_LP\"] = KLEMS_data.groupby(\"code\")[\"delta_ln_LP\"].cumsum()\n",
    "KLEMS_data[\"index_ln_LP\"] = np.exp(KLEMS_data[\"ln_LP\"])"
   ]
  },
  {
   "cell_type": "markdown",
   "metadata": {},
   "source": [
    "### 3.3 Set first index value as 1 for each industry"
   ]
  },
  {
   "cell_type": "code",
   "execution_count": 13,
   "metadata": {},
   "outputs": [],
   "source": [
    "KLEMS_data.loc[KLEMS_data.index.get_level_values('Year') == '_1947', 'index_ln_TFP'] = 1\n",
    "KLEMS_data.loc[KLEMS_data.index.get_level_values('Year') == '_1947', 'index_ln_LP'] = 1"
   ]
  },
  {
   "cell_type": "markdown",
   "metadata": {},
   "source": [
    "## 4 Export to Excel"
   ]
  },
  {
   "cell_type": "code",
   "execution_count": 14,
   "metadata": {},
   "outputs": [
    {
     "name": "stdout",
     "output_type": "stream",
     "text": [
      "File successfully saved to: C:\\Users\\olive\\OneDrive\\Documents\\University Work\\Y3S2\\JIV_RA_task\\KLEMS_indeces_2013_samecode.xlsx\n"
     ]
    }
   ],
   "source": [
    "columns_to_export = [\"index_ln_TFP\", \"index_ln_LP\"] \n",
    "KLEMS_data[columns_to_export].to_excel(export_file_path, sheet_name=\"Data\", index=True)\n",
    "\n",
    "print(f\"File successfully saved to: {export_file_path}\")"
   ]
  }
 ],
 "metadata": {
  "kernelspec": {
   "display_name": "base",
   "language": "python",
   "name": "python3"
  },
  "language_info": {
   "codemirror_mode": {
    "name": "ipython",
    "version": 3
   },
   "file_extension": ".py",
   "mimetype": "text/x-python",
   "name": "python",
   "nbconvert_exporter": "python",
   "pygments_lexer": "ipython3",
   "version": "3.12.4"
  }
 },
 "nbformat": 4,
 "nbformat_minor": 2
}
